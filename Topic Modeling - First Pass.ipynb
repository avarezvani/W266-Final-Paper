{
 "cells": [
  {
   "cell_type": "code",
   "execution_count": 1,
   "metadata": {},
   "outputs": [],
   "source": [
    "# packages\n",
    "import numpy as np\n",
    "import pandas as pd\n",
    "import matplotlib.pyplot as plt\n",
    "import matplotlib.colors as mcolors\n",
    "import seaborn as sns \n",
    "import matplotlib.gridspec as gridspec \n",
    "import re\n",
    "import string\n",
    "from wordcloud import WordCloud\n",
    "import nltk\n",
    "from nltk import word_tokenize\n",
    "from nltk.util import ngrams\n",
    "from nltk.corpus import stopwords\n",
    "from nltk.tokenize import RegexpTokenizer\n",
    "from nltk.stem import WordNetLemmatizer\n",
    "from nltk.stem.porter import PorterStemmer\n",
    "import sklearn\n",
    "from sklearn.feature_extraction.text import CountVectorizer\n",
    "import re\n",
    "import csv\n",
    "import pickle\n",
    "from collections import defaultdict\n",
    "from nltk.corpus import stopwords\n",
    "import gensim\n",
    "from gensim.utils import simple_preprocess\n",
    "from gensim import corpora\n",
    "from gensim.models import LdaModel\n",
    "import pyLDAvis.gensim\n",
    "import pandas as pd\n",
    "from gensim.test.utils import common_texts\n",
    "from gensim import corpora\n",
    "from gensim.corpora.dictionary import Dictionary\n",
    "from gensim.models import hdpmodel, ldamodel\n",
    "from pprint import pprint"
   ]
  },
  {
   "cell_type": "code",
   "execution_count": 2,
   "metadata": {},
   "outputs": [],
   "source": [
    "# load the tips data\n",
    "tips = pd.read_csv(\"/Users/avarezvani/Downloads/yelp-dataset/tips_final.csv\")"
   ]
  },
  {
   "cell_type": "code",
   "execution_count": 3,
   "metadata": {},
   "outputs": [
    {
     "data": {
      "text/html": [
       "<div>\n",
       "<style scoped>\n",
       "    .dataframe tbody tr th:only-of-type {\n",
       "        vertical-align: middle;\n",
       "    }\n",
       "\n",
       "    .dataframe tbody tr th {\n",
       "        vertical-align: top;\n",
       "    }\n",
       "\n",
       "    .dataframe thead th {\n",
       "        text-align: right;\n",
       "    }\n",
       "</style>\n",
       "<table border=\"1\" class=\"dataframe\">\n",
       "  <thead>\n",
       "    <tr style=\"text-align: right;\">\n",
       "      <th></th>\n",
       "      <th>business_id</th>\n",
       "      <th>name</th>\n",
       "      <th>postal_code</th>\n",
       "      <th>stars</th>\n",
       "      <th>review_count</th>\n",
       "      <th>categories</th>\n",
       "      <th>user_id</th>\n",
       "      <th>text</th>\n",
       "      <th>date</th>\n",
       "      <th>compliment_count</th>\n",
       "      <th>text_length</th>\n",
       "      <th>tips_id</th>\n",
       "      <th>text_new</th>\n",
       "    </tr>\n",
       "  </thead>\n",
       "  <tbody>\n",
       "    <tr>\n",
       "      <th>0</th>\n",
       "      <td>gnKjwL_1w79qoiV3IC_xQQ</td>\n",
       "      <td>Musashi Japanese Restaurant</td>\n",
       "      <td>28210</td>\n",
       "      <td>4.0</td>\n",
       "      <td>170</td>\n",
       "      <td>Sushi Bars, Restaurants, Japanese</td>\n",
       "      <td>JysF40STBTmx7h-sU1FHgg</td>\n",
       "      <td>Tonkatsu Ramen!!!</td>\n",
       "      <td>2013-02-20 23:22:46</td>\n",
       "      <td>0</td>\n",
       "      <td>17</td>\n",
       "      <td>0</td>\n",
       "      <td>tonkatsu ramen</td>\n",
       "    </tr>\n",
       "    <tr>\n",
       "      <th>1</th>\n",
       "      <td>gnKjwL_1w79qoiV3IC_xQQ</td>\n",
       "      <td>Musashi Japanese Restaurant</td>\n",
       "      <td>28210</td>\n",
       "      <td>4.0</td>\n",
       "      <td>170</td>\n",
       "      <td>Sushi Bars, Restaurants, Japanese</td>\n",
       "      <td>FyikYazQbNoOumDooOQyyA</td>\n",
       "      <td>Ramen, Gyoza, miso soup and green tea ice crea...</td>\n",
       "      <td>2018-01-19 05:31:59</td>\n",
       "      <td>0</td>\n",
       "      <td>59</td>\n",
       "      <td>1</td>\n",
       "      <td>ramen gyoza miso soup green tea ice cream great</td>\n",
       "    </tr>\n",
       "    <tr>\n",
       "      <th>2</th>\n",
       "      <td>gnKjwL_1w79qoiV3IC_xQQ</td>\n",
       "      <td>Musashi Japanese Restaurant</td>\n",
       "      <td>28210</td>\n",
       "      <td>4.0</td>\n",
       "      <td>170</td>\n",
       "      <td>Sushi Bars, Restaurants, Japanese</td>\n",
       "      <td>FyikYazQbNoOumDooOQyyA</td>\n",
       "      <td>Best ramen I've had in the Charlotte area</td>\n",
       "      <td>2017-04-08 05:34:25</td>\n",
       "      <td>0</td>\n",
       "      <td>41</td>\n",
       "      <td>2</td>\n",
       "      <td>best ramen ive charlotte area</td>\n",
       "    </tr>\n",
       "    <tr>\n",
       "      <th>3</th>\n",
       "      <td>gnKjwL_1w79qoiV3IC_xQQ</td>\n",
       "      <td>Musashi Japanese Restaurant</td>\n",
       "      <td>28210</td>\n",
       "      <td>4.0</td>\n",
       "      <td>170</td>\n",
       "      <td>Sushi Bars, Restaurants, Japanese</td>\n",
       "      <td>7M-rWYRGPfCDnb7tjl7QGQ</td>\n",
       "      <td>Get whatever lunch special A or B is. Trust me...</td>\n",
       "      <td>2011-11-19 18:19:24</td>\n",
       "      <td>0</td>\n",
       "      <td>66</td>\n",
       "      <td>3</td>\n",
       "      <td>get whatever lunch special trust</td>\n",
       "    </tr>\n",
       "    <tr>\n",
       "      <th>4</th>\n",
       "      <td>gnKjwL_1w79qoiV3IC_xQQ</td>\n",
       "      <td>Musashi Japanese Restaurant</td>\n",
       "      <td>28210</td>\n",
       "      <td>4.0</td>\n",
       "      <td>170</td>\n",
       "      <td>Sushi Bars, Restaurants, Japanese</td>\n",
       "      <td>MZFUSBTj7RDpf19v5qP9HA</td>\n",
       "      <td>Best Chirazshi in town!</td>\n",
       "      <td>2016-02-26 22:43:31</td>\n",
       "      <td>0</td>\n",
       "      <td>23</td>\n",
       "      <td>4</td>\n",
       "      <td>best chirazshi town</td>\n",
       "    </tr>\n",
       "  </tbody>\n",
       "</table>\n",
       "</div>"
      ],
      "text/plain": [
       "              business_id                         name  postal_code  stars  \\\n",
       "0  gnKjwL_1w79qoiV3IC_xQQ  Musashi Japanese Restaurant        28210    4.0   \n",
       "1  gnKjwL_1w79qoiV3IC_xQQ  Musashi Japanese Restaurant        28210    4.0   \n",
       "2  gnKjwL_1w79qoiV3IC_xQQ  Musashi Japanese Restaurant        28210    4.0   \n",
       "3  gnKjwL_1w79qoiV3IC_xQQ  Musashi Japanese Restaurant        28210    4.0   \n",
       "4  gnKjwL_1w79qoiV3IC_xQQ  Musashi Japanese Restaurant        28210    4.0   \n",
       "\n",
       "   review_count                         categories                 user_id  \\\n",
       "0           170  Sushi Bars, Restaurants, Japanese  JysF40STBTmx7h-sU1FHgg   \n",
       "1           170  Sushi Bars, Restaurants, Japanese  FyikYazQbNoOumDooOQyyA   \n",
       "2           170  Sushi Bars, Restaurants, Japanese  FyikYazQbNoOumDooOQyyA   \n",
       "3           170  Sushi Bars, Restaurants, Japanese  7M-rWYRGPfCDnb7tjl7QGQ   \n",
       "4           170  Sushi Bars, Restaurants, Japanese  MZFUSBTj7RDpf19v5qP9HA   \n",
       "\n",
       "                                                text                 date  \\\n",
       "0                                  Tonkatsu Ramen!!!  2013-02-20 23:22:46   \n",
       "1  Ramen, Gyoza, miso soup and green tea ice crea...  2018-01-19 05:31:59   \n",
       "2          Best ramen I've had in the Charlotte area  2017-04-08 05:34:25   \n",
       "3  Get whatever lunch special A or B is. Trust me...  2011-11-19 18:19:24   \n",
       "4                            Best Chirazshi in town!  2016-02-26 22:43:31   \n",
       "\n",
       "   compliment_count  text_length  tips_id  \\\n",
       "0                 0           17        0   \n",
       "1                 0           59        1   \n",
       "2                 0           41        2   \n",
       "3                 0           66        3   \n",
       "4                 0           23        4   \n",
       "\n",
       "                                          text_new  \n",
       "0                                   tonkatsu ramen  \n",
       "1  ramen gyoza miso soup green tea ice cream great  \n",
       "2                    best ramen ive charlotte area  \n",
       "3                 get whatever lunch special trust  \n",
       "4                              best chirazshi town  "
      ]
     },
     "execution_count": 3,
     "metadata": {},
     "output_type": "execute_result"
    }
   ],
   "source": [
    "tips.head()"
   ]
  },
  {
   "cell_type": "code",
   "execution_count": 4,
   "metadata": {},
   "outputs": [
    {
     "data": {
      "text/plain": [
       "31828"
      ]
     },
     "execution_count": 4,
     "metadata": {},
     "output_type": "execute_result"
    }
   ],
   "source": [
    "# identify the number of restaurants\n",
    "tips[\"business_id\"].nunique()"
   ]
  },
  {
   "cell_type": "markdown",
   "metadata": {},
   "source": [
    "### Tokenizing"
   ]
  },
  {
   "cell_type": "code",
   "execution_count": 5,
   "metadata": {},
   "outputs": [
    {
     "name": "stdout",
     "output_type": "stream",
     "text": [
      "[['tonkatsu', 'ramen'], ['ramen', 'gyoza', 'miso', 'soup', 'green', 'tea', 'ice', 'cream', 'great'], ['best', 'ramen', 'ive', 'charlotte', 'area'], ['get', 'whatever', 'lunch', 'special', 'trust'], ['best', 'chirazshi', 'town'], ['lunch', 'special', 'saturday', 'also'], ['make', 'rsvp', 'advance'], ['asahi', 'super', 'dry', 'gigantic', 'made', 'japan'], ['lunch', 'special', 'set', 'always', 'front', 'cost']]\n"
     ]
    }
   ],
   "source": [
    "def tokenize_sentences(sentences):\n",
    "    for x in sentences:\n",
    "        yield(gensim.utils.simple_preprocess(str(x)))\n",
    "\n",
    "tokens = list(tokenize_sentences(tips.text_new.values.tolist()))\n",
    "\n",
    "print(tokens[0:9])"
   ]
  },
  {
   "cell_type": "markdown",
   "metadata": {},
   "source": [
    "### Developing model for Bigrams & Trigrams with gensim"
   ]
  },
  {
   "cell_type": "code",
   "execution_count": 6,
   "metadata": {},
   "outputs": [],
   "source": [
    "bigram = gensim.models.Phrases(tokens, min_count=5, threshold=100)\n",
    "trigram = gensim.models.Phrases(bigram[tokens], threshold=100)"
   ]
  },
  {
   "cell_type": "code",
   "execution_count": 7,
   "metadata": {},
   "outputs": [],
   "source": [
    "bigram_mod = gensim.models.phrases.Phraser(bigram)\n",
    "trigram_mod = gensim.models.phrases.Phraser(trigram)"
   ]
  },
  {
   "cell_type": "code",
   "execution_count": 8,
   "metadata": {},
   "outputs": [],
   "source": [
    "def make_bigrams(texts):\n",
    "    return [bigram_mod[doc] for doc in texts]\n",
    "\n",
    "def make_trigrams(texts):\n",
    "    return [bigram_mod[doc] for doc in texts]"
   ]
  },
  {
   "cell_type": "code",
   "execution_count": 10,
   "metadata": {},
   "outputs": [
    {
     "name": "stdout",
     "output_type": "stream",
     "text": [
      "[['tonkatsu_ramen'], ['ramen', 'gyoza', 'miso', 'soup', 'green', 'tea', 'ice_cream', 'great'], ['best', 'ramen', 'ive', 'charlotte', 'area'], ['get', 'whatever', 'lunch', 'special', 'trust'], ['best', 'chirazshi', 'town'], ['lunch', 'special', 'saturday', 'also'], ['make', 'rsvp', 'advance'], ['asahi', 'super', 'dry', 'gigantic', 'made', 'japan'], ['lunch', 'special', 'set', 'always', 'front', 'cost']]\n"
     ]
    }
   ],
   "source": [
    "data_words_bigrams = make_bigrams(tokens)\n",
    "\n",
    "data_words_trigrams = make_trigrams(tokens)\n",
    "\n",
    "print(data_words_bigrams[0:9])\n",
    "\n",
    "# note the first bigram seen with \"tokatsu_ramen\""
   ]
  },
  {
   "cell_type": "code",
   "execution_count": null,
   "metadata": {},
   "outputs": [],
   "source": [
    "### Baseline with word cloud"
   ]
  },
  {
   "cell_type": "code",
   "execution_count": 11,
   "metadata": {},
   "outputs": [
    {
     "data": {
      "image/png": "[encoded data removed]",
      "text/plain": [
       "<Figure size 432x288 with 1 Axes>"
      ]
     },
     "metadata": {
      "needs_background": "light"
     },
     "output_type": "display_data"
    }
   ],
   "source": [
    "# Baseline with a word cloud\n",
    "words = str(data_words_bigrams)\n",
    "wordcloud = WordCloud(max_font_size=50, max_words=100, background_color=\"white\").generate(words)\n",
    "plt.figure()\n",
    "plt.imshow(wordcloud, interpolation='bilinear')\n",
    "plt.axis(\"off\")\n",
    "plt.show()"
   ]
  },
  {
   "cell_type": "markdown",
   "metadata": {},
   "source": [
    "### interesting insights from the wordcloud include:\n",
    "- mentions of food and service (both of which would help to be seen in the reviews\n",
    "- mentions of a \"happy hour\" (which would be helpful to see up top and closer to hours of operation)\n",
    "- mentions of \"like\" and \"try\" (which would be helpful for the popular dishes section of Yelp)\n",
    "- interesting to see that there is a lot of positivity in the reviews: are tips generally more positive than negative?\n",
    "- also interesting that there is \"good food\" and also \"food good.\" I think there is some room to combine these, as we look into the topics."
   ]
  },
  {
   "cell_type": "markdown",
   "metadata": {},
   "source": [
    "### LDA:\n"
   ]
  },
  {
   "cell_type": "code",
   "execution_count": 11,
   "metadata": {},
   "outputs": [],
   "source": [
    "id2word = corpora.Dictionary(data_words_bigrams)\n",
    "dictionary = corpora.Dictionary(data_words_bigrams)\n",
    "texts = data_words_bigrams\n",
    "corpus = [id2word.doc2bow(text) for text in texts]"
   ]
  },
  {
   "cell_type": "code",
   "execution_count": 12,
   "metadata": {},
   "outputs": [],
   "source": [
    "pickle.dump(corpus, open('corpus.pkl', 'wb'))\n",
    "dictionary.save('dictionary.gensim')"
   ]
  },
  {
   "cell_type": "code",
   "execution_count": 13,
   "metadata": {},
   "outputs": [
    {
     "name": "stdout",
     "output_type": "stream",
     "text": [
      "[[(0, 1)], [(1, 1), (2, 1), (3, 1), (4, 1), (5, 1), (6, 1), (7, 1), (8, 1)], [(6, 1), (9, 1), (10, 1), (11, 1), (12, 1)], [(13, 1), (14, 1), (15, 1), (16, 1), (17, 1)], [(10, 1), (18, 1), (19, 1)], [(14, 1), (15, 1), (20, 1), (21, 1)], [(22, 1), (23, 1), (24, 1)], [(25, 1), (26, 1), (27, 1), (28, 1), (29, 1), (30, 1)], [(14, 1), (15, 1), (31, 1), (32, 1), (33, 1), (34, 1)], [(35, 1)], [(10, 1), (19, 1), (35, 1), (36, 1)], [(36, 1), (37, 1), (38, 1), (39, 1), (40, 1), (41, 1), (42, 1)], [(14, 1), (15, 1), (43, 1)], [(10, 1), (11, 1), (44, 1), (45, 1), (46, 1), (47, 1), (48, 1)], [(10, 1), (14, 2), (15, 1), (49, 1), (50, 1)], [(13, 1), (51, 1), (52, 1), (53, 1), (54, 1), (55, 1), (56, 1), (57, 1), (58, 1)], [(59, 1), (60, 1), (61, 1), (62, 1)], [(63, 1), (64, 1), (65, 1), (66, 1), (67, 1), (68, 1), (69, 1), (70, 1), (71, 1), (72, 1), (73, 1), (74, 1), (75, 1), (76, 1)], [(1, 1), (11, 1), (14, 1), (45, 1), (77, 1), (78, 1), (79, 1)], [(80, 1), (81, 1), (82, 1), (83, 1)]]\n"
     ]
    }
   ],
   "source": [
    "print(corpus[0:20])\n",
    "# can see many unique words here"
   ]
  },
  {
   "cell_type": "code",
   "execution_count": 14,
   "metadata": {},
   "outputs": [],
   "source": [
    "# LDA Model\n",
    "lda_model = gensim.models.ldamodel.LdaModel(corpus, id2word=dictionary, num_topics=10,chunksize=1000, passes=1)"
   ]
  },
  {
   "cell_type": "code",
   "execution_count": 15,
   "metadata": {},
   "outputs": [
    {
     "name": "stdout",
     "output_type": "stream",
     "text": [
      "[(0,\n",
      "  '0.055*\"hour\" + 0.051*\"happy\" + 0.035*\"fry\" + 0.034*\"day\" + 0.030*\"night\" + '\n",
      "  '0.027*\"open\" + 0.023*\"pm\" + 0.018*\"come\" + 0.016*\"sunday\" + '\n",
      "  '0.016*\"location\"'),\n",
      " (1,\n",
      "  '0.074*\"try\" + 0.046*\"delicious\" + 0.038*\"salad\" + 0.033*\"yummy\" + '\n",
      "  '0.027*\"good\" + 0.025*\"roll\" + 0.024*\"hot\" + 0.024*\"sauce\" + 0.023*\"must\" + '\n",
      "  '0.020*\"soup\"'),\n",
      " (2,\n",
      "  '0.074*\"pizza\" + 0.042*\"great\" + 0.034*\"beer\" + 0.027*\"good\" + 0.025*\"menu\" '\n",
      "  '+ 0.023*\"place\" + 0.022*\"wing\" + 0.019*\"everything\" + 0.018*\"bbq\" + '\n",
      "  '0.016*\"selection\"'),\n",
      " (3,\n",
      "  '0.030*\"dont\" + 0.028*\"order\" + 0.019*\"like\" + 0.018*\"chicken\" + 0.016*\"get\" '\n",
      "  '+ 0.016*\"taste\" + 0.015*\"want\" + 0.014*\"rice\" + 0.014*\"sweet\" + '\n",
      "  '0.014*\"menu\"'),\n",
      " (4,\n",
      "  '0.114*\"love\" + 0.093*\"place\" + 0.077*\"time\" + 0.030*\"eat\" + 0.024*\"first\" + '\n",
      "  '0.021*\"good\" + 0.018*\"every\" + 0.014*\"know\" + 0.014*\"never\" + 0.014*\"slow\"'),\n",
      " (5,\n",
      "  '0.042*\"chicken\" + 0.019*\"steak\" + 0.019*\"egg\" + 0.018*\"ask\" + 0.018*\"made\" '\n",
      "  '+ 0.015*\"get\" + 0.014*\"brunch\" + 0.014*\"cheese\" + 0.014*\"order\" + '\n",
      "  '0.014*\"take\"'),\n",
      " (6,\n",
      "  '0.166*\"best\" + 0.048*\"ever\" + 0.037*\"coffee\" + 0.028*\"ive\" + 0.028*\"vega\" + '\n",
      "  '0.026*\"town\" + 0.026*\"yum\" + 0.025*\"sushi\" + 0.024*\"closed\" + '\n",
      "  '0.017*\"going\"'),\n",
      " (7,\n",
      "  '0.139*\"food\" + 0.126*\"great\" + 0.083*\"service\" + 0.074*\"good\" + '\n",
      "  '0.032*\"place\" + 0.024*\"friendly\" + 0.024*\"awesome\" + 0.021*\"staff\" + '\n",
      "  '0.020*\"always\" + 0.018*\"excellent\"'),\n",
      " (8,\n",
      "  '0.058*\"lunch\" + 0.049*\"amazing\" + 0.042*\"burger\" + 0.040*\"breakfast\" + '\n",
      "  '0.035*\"wait\" + 0.031*\"special\" + 0.030*\"super\" + 0.025*\"worth\" + '\n",
      "  '0.018*\"long\" + 0.017*\"fish\"'),\n",
      " (9,\n",
      "  '0.028*\"get\" + 0.028*\"one\" + 0.028*\"favorite\" + 0.027*\"bar\" + 0.024*\"make\" + '\n",
      "  '0.017*\"better\" + 0.017*\"check\" + 0.016*\"new\" + 0.015*\"sure\" + 0.014*\"taco\"')]\n"
     ]
    }
   ],
   "source": [
    "# Print the Keyword in the 10 topics\n",
    "pprint(lda_model.show_topics())\n",
    "doc_lda = lda_model[corpus]"
   ]
  },
  {
   "cell_type": "code",
   "execution_count": 16,
   "metadata": {},
   "outputs": [
    {
     "name": "stdout",
     "output_type": "stream",
     "text": [
      "\n",
      "Coherence Score:  0.4156083962009568\n"
     ]
    }
   ],
   "source": [
    "from gensim.models import CoherenceModel\n",
    "# Compute Coherence Score\n",
    "coherence_model_lda = CoherenceModel(model=lda_model, texts=data_words_bigrams, dictionary=id2word, coherence='c_v')\n",
    "coherence_lda = coherence_model_lda.get_coherence()\n",
    "print(\"coherence score:\", coherence_lda)"
   ]
  },
  {
   "cell_type": "code",
   "execution_count": 17,
   "metadata": {},
   "outputs": [
    {
     "name": "stdout",
     "output_type": "stream",
     "text": [
      "model perplexity score: -8.499812823640967\n"
     ]
    }
   ],
   "source": [
    "# Compute Model Perplexity Score\n",
    "print(\"model perplexity score:\", lda_model.log_perplexity(corpus))"
   ]
  },
  {
   "cell_type": "code",
   "execution_count": 53,
   "metadata": {},
   "outputs": [
    {
     "ename": "AttributeError",
     "evalue": "module 'gensim.models.ldamodel' has no attribute 'show_topic'",
     "output_type": "error",
     "traceback": [
      "\u001b[0;31m--------------------------------------------------------------------------\u001b[0m",
      "\u001b[0;31mAttributeError\u001b[0m                           Traceback (most recent call last)",
      "\u001b[0;32m<ipython-input-53-7bef1d315c7d>\u001b[0m in \u001b[0;36m<module>\u001b[0;34m\u001b[0m\n\u001b[1;32m      3\u001b[0m \u001b[0;34m\u001b[0m\u001b[0m\n\u001b[1;32m      4\u001b[0m \u001b[0;32mfor\u001b[0m \u001b[0mi\u001b[0m \u001b[0;32min\u001b[0m \u001b[0mrange\u001b[0m\u001b[0;34m(\u001b[0m\u001b[0mtopics_number\u001b[0m\u001b[0;34m)\u001b[0m\u001b[0;34m:\u001b[0m\u001b[0;34m\u001b[0m\u001b[0;34m\u001b[0m\u001b[0m\n\u001b[0;32m----> 5\u001b[0;31m     \u001b[0mwords\u001b[0m \u001b[0;34m=\u001b[0m \u001b[0mldamodel\u001b[0m\u001b[0;34m.\u001b[0m\u001b[0mshow_topic\u001b[0m\u001b[0;34m(\u001b[0m\u001b[0mi\u001b[0m\u001b[0;34m,\u001b[0m \u001b[0mtopn\u001b[0m \u001b[0;34m=\u001b[0m \u001b[0;36m10\u001b[0m\u001b[0;34m)\u001b[0m\u001b[0;34m\u001b[0m\u001b[0;34m\u001b[0m\u001b[0m\n\u001b[0m\u001b[1;32m      6\u001b[0m     \u001b[0mword_dictionary\u001b[0m\u001b[0;34m[\u001b[0m\u001b[0;34m\"topic\"\u001b[0m \u001b[0;34m+\u001b[0m \u001b[0;34m\"{:d}\"\u001b[0m\u001b[0;34m.\u001b[0m\u001b[0mformat\u001b[0m\u001b[0;34m(\u001b[0m\u001b[0mi\u001b[0m\u001b[0;34m+\u001b[0m\u001b[0;36m1\u001b[0m\u001b[0;34m)\u001b[0m\u001b[0;34m]\u001b[0m \u001b[0;34m=\u001b[0m \u001b[0;34m[\u001b[0m\u001b[0mi\u001b[0m\u001b[0;34m[\u001b[0m\u001b[0;36m0\u001b[0m\u001b[0;34m]\u001b[0m \u001b[0;32mfor\u001b[0m \u001b[0mi\u001b[0m \u001b[0;32min\u001b[0m \u001b[0mwords\u001b[0m\u001b[0;34m]\u001b[0m\u001b[0;34m\u001b[0m\u001b[0;34m\u001b[0m\u001b[0m\n\u001b[1;32m      7\u001b[0m \u001b[0mpd\u001b[0m\u001b[0;34m.\u001b[0m\u001b[0mDataFrame\u001b[0m\u001b[0;34m(\u001b[0m\u001b[0mword_dictionary\u001b[0m\u001b[0;34m)\u001b[0m\u001b[0;34m\u001b[0m\u001b[0;34m\u001b[0m\u001b[0m\n",
      "\u001b[0;31mAttributeError\u001b[0m: module 'gensim.models.ldamodel' has no attribute 'show_topic'"
     ]
    }
   ],
   "source": [
    "topics_number = 3\n",
    "word_dictionary = {};\n",
    "\n",
    "for i in range(topics_number):\n",
    "    words = ldamodel.show_topic(i, topn = 10)\n",
    "    word_dictionary[\"topic\" + \"{:d}\".format(i+1)] = [i[0] for i in words]\n",
    "pd.DataFrame(word_dictionary)\n",
    "\n",
    "# source: "
   ]
  },
  {
   "cell_type": "code",
   "execution_count": 162,
   "metadata": {},
   "outputs": [],
   "source": [
    "# lda_display = pyLDAvis.gensim.prepare(ldamodel, corpus, dictionary, sort_topics=False)\n",
    "#pyLDAvis.display(lda_display)"
   ]
  },
  {
   "cell_type": "code",
   "execution_count": 24,
   "metadata": {},
   "outputs": [],
   "source": [
    "tips = tips.text_new.values.tolist()\n",
    "\n",
    "tips_indiv_words = gensim.utils.simple_preprocess(str(tips))"
   ]
  },
  {
   "cell_type": "code",
   "execution_count": null,
   "metadata": {},
   "outputs": [],
   "source": []
  },
  {
   "cell_type": "code",
   "execution_count": 77,
   "metadata": {},
   "outputs": [],
   "source": [
    "bigram = gensim.models.Phrases(tips)\n",
    "# bigram = gensim.models.Phrases(data_words, min_count=5, threshold=100) # higher threshold fewer phrases.\n",
    "# trigram = gensim.models.Phrases(bigram[data_words], threshold=100)\n",
    "# Faster way to get a sentence clubbed as a trigram/bigram\n",
    "# bigram_mod = gensim.models.phrases.Phraser(tips_indiv_words)\n",
    "# trigram_mod = gensim.models.phrases.Phraser(trigram)"
   ]
  },
  {
   "cell_type": "code",
   "execution_count": null,
   "metadata": {},
   "outputs": [],
   "source": []
  }
 ],
 "metadata": {
  "kernelspec": {
   "display_name": "Python 3",
   "language": "python",
   "name": "python3"
  },
  "language_info": {
   "codemirror_mode": {
    "name": "ipython",
    "version": 3
   },
   "file_extension": ".py",
   "mimetype": "text/x-python",
   "name": "python",
   "nbconvert_exporter": "python",
   "pygments_lexer": "ipython3",
   "version": "3.7.3"
  }
 },
 "nbformat": 4,
 "nbformat_minor": 2
}
